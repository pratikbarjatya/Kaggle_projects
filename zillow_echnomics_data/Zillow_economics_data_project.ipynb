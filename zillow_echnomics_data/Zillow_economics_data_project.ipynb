{
  "cells": [
    {
      "metadata": {
        "_uuid": "bd62c1bc3badb1b74341908a2e312a02d3ce10e2",
        "_cell_guid": "1e63f9e8-34ae-4e10-9c87-437ca263d153"
      },
      "cell_type": "markdown",
      "source": "## Table of Contents\n***\n- [Introduction](#introduction)\n- [Import necessary modules](#modules)\n- [Review Variables](#review_variables)\n- [Importing All Datasets](#import_data_sets)\n- [Exploratory Data Analysis](#eda)\n"
    },
    {
      "metadata": {
        "_uuid": "e28d9eff613af50f3cd53e5c2529945e41b219f2",
        "_cell_guid": "1956e3bc-27b5-424b-bc95-054d3f007504"
      },
      "cell_type": "markdown",
      "source": "# Introduction\n<a id=\"introduction\"></a>\n***\nThis kernel looks at the data and tries to find some interesting insights. As I continuously work on this dataset, each update comes with detailed analysis along with plots using Matplotly, Seaborn, Plotly as well as Tableau. So, let's jump in. \n\n***This Kernel is a work in progress. So please do come back to read more insights as I upload them.***"
    },
    {
      "metadata": {
        "_uuid": "77d5fd502eb47783223edab583ddcffb37e92174",
        "_cell_guid": "812fbba8-cd02-4a0e-9233-625308d184d4"
      },
      "cell_type": "markdown",
      "source": "## Review Variables\n<a id=\"review_variables\"></a>\n***\n\nIncase you have missed the data description, I took the liberty to paste the following variables since understanding these concept will come in handy for my analysis report. \n\n**Zillow Home Value Index (ZHVI)**: A smoothed seasonally adjusted measure of the median estimated home value across a given region and housing type. A dollar denominated alternative to repeat-sales indices. Find a more detailed methodology here: http://www.zillow.com/research/zhvi-methodology-6032/\n\n**Zillow Rent Index (ZRI)**: A smoothed seasonally adjusted measure of the median estimated market rate rent across a given region and housing type. A dollar denominated alternative to repeat-rent indices. Find a more detailed methodology here: http://www.zillow.com/research/zillow-rent-index-methodology-2393/\n\n\n\n"
    },
    {
      "metadata": {
        "_uuid": "e6f104c2b4cf65808674596159015fad2463b4db",
        "_cell_guid": "79c78fe2-5347-4ddf-97a4-67b3ce322662"
      },
      "cell_type": "markdown",
      "source": "## Import necessary modules\n<a id=\"modules\"></a>\n***\n"
    },
    {
      "metadata": {
        "_uuid": "0cd829f6937dbda308309eb971ca49a8476b036c",
        "scrolled": true,
        "_cell_guid": "7e7abff8-b9b4-4570-a430-68b1920ab820",
        "trusted": false,
        "collapsed": true
      },
      "cell_type": "code",
      "source": "# This Python 3 environment comes with many helpful analytics libraries installed\n# It is defined by the kaggle/python docker image: https://github.com/kaggle/docker-python\n# For example, here's several helpful packages to load in \n\nimport numpy as np # linear algebra\nimport pandas as pd # data processing, CSV file I/O (e.g. pd.read_csv)\nimport matplotlib.pyplot as plt\nplt.style.use('ggplot')\nimport seaborn as sns\nfrom IPython.display import Image, display\n\n# import plotly\nimport plotly\nimport plotly.offline as py\npy.init_notebook_mode(connected=True)\nimport plotly.tools as tls\nimport plotly.graph_objs as go\nimport plotly.tools as tls\nimport plotly.figure_factory as fig_fact\nplotly.tools.set_config_file(world_readable=True, sharing='public')\n\n\n%matplotlib inline\n\n# Input data files are available in the \"../input/\" directory.\n# For example, running this (by clicking run or pressing Shift+Enter) will list the files in the input directory\n\nfrom subprocess import check_output\nprint(check_output([\"ls\", \"../input\"]).decode(\"utf8\"))\n\n# Any results you write to the current directory are saved as output.",
      "execution_count": null,
      "outputs": []
    },
    {
      "metadata": {
        "_uuid": "b1ec8239ecbed6149d82094c45796f5b0cfe96c7",
        "_cell_guid": "e7bbdb19-4951-4aaa-b59b-212c91dd964b"
      },
      "cell_type": "markdown",
      "source": "## Importing all the datasets\n<a id=\"import_data_sets\"></a>\n***\n"
    },
    {
      "metadata": {
        "collapsed": true,
        "_uuid": "c2a00eac75d0340d89f11c4fa9b50c9965fa836f",
        "_cell_guid": "04418770-d01e-4ead-9b5a-7cdfbce41047",
        "trusted": false
      },
      "cell_type": "code",
      "source": "state_time_series = pd.read_csv('../input/State_time_series.csv')\ncity_time_series = pd.read_csv('../input/City_time_series.csv')",
      "execution_count": null,
      "outputs": []
    },
    {
      "metadata": {
        "_uuid": "b702f1fc82b73c89fd6b5ca829d4fca9e9f743b8",
        "_cell_guid": "e5425a08-1573-4081-9c7c-77f0867b7dd3",
        "trusted": false,
        "collapsed": true
      },
      "cell_type": "code",
      "source": "\"\"\"## Importing all the datasets. Since this kernel will be continous working progress. \ncities_crosswalk = pd.read_csv('../input/cities_crosswalk.csv')\n\ncounty_time_series = pd.read_csv('../input/County_time_series.csv')\nmetro_time_series = pd.read_csv('../input/Metro_time_series.csv')\nneighborhood_time_series = pd.read_csv('../input/Neighborhood_time_series.csv')\nzip_time_series = pd.read_csv('../input/Zip_time_series.csv')\ncountyCrossWalk_Zillow = pd.read_csv('../input/CountyCrossWalk_Zillow.csv')\"\"\"",
      "execution_count": null,
      "outputs": []
    },
    {
      "metadata": {
        "_uuid": "cc97d0b9a20aec2041bba7294db6fc6d99af0a85",
        "_cell_guid": "671af094-327e-4b76-b4ce-0e52fabff791"
      },
      "cell_type": "markdown",
      "source": "I am super interested in looking at the state dataset and comparing how the prices vary in different states for different aspects. I would also like to see the price changes over time in various states. To do all those and more, I think it would be best to use states dataset."
    },
    {
      "metadata": {
        "_uuid": "37e9c0bbf5b2f8ccb1ee3bf47d6ee2aafe778605",
        "_cell_guid": "b355970a-096f-41eb-bcc2-be412d183230"
      },
      "cell_type": "markdown",
      "source": " ## Exploratory Data Analysis\n<a id=\"eda\"></a>\n***\n\n"
    },
    {
      "metadata": {
        "_uuid": "63fd0343826a014b04196a8f231643b99030f11b",
        "_cell_guid": "7c89992f-35c7-40a1-bbc6-b605899b058f",
        "trusted": false,
        "collapsed": true
      },
      "cell_type": "code",
      "source": "state_time_series.head(2)",
      "execution_count": null,
      "outputs": []
    },
    {
      "metadata": {
        "_uuid": "463f79ce888de4ae9bf5ec428e68897c7f66cc95",
        "_cell_guid": "fd752030-18ca-4cd2-ab2a-97809934b326"
      },
      "cell_type": "markdown",
      "source": "## Which states should you buy a house or Rent? \n***"
    },
    {
      "metadata": {
        "_uuid": "ccc0b6e764012d895b4df533920f00b99852fa22",
        "scrolled": false,
        "_cell_guid": "55a82f4d-0af0-479d-a425-e07f880f8daf",
        "trusted": false,
        "collapsed": true
      },
      "cell_type": "code",
      "source": "## Finding out top ten states with most ZHVI values. \nf, ax = plt.subplots(2,1, figsize=(20, 30))\nstate_time_series.Date = pd.to_datetime(state_time_series.Date) ## \nstate_without_null = state_time_series.dropna(subset=['ZHVI_AllHomes'], how='any') ## getting rid of null values\nstate_without_null.Date = state_without_null.Date.dt.year ## set date to year.\n\nstate_without_null.groupby(state_without_null.RegionName)['ZHVI_AllHomes'].mean().sort_values().plot( kind = 'bar', ax =ax[0], color = 'g')\nax[0].set_title('States with Most Home Values According to Zillow', fontsize = 25)\nax[0].set_xlabel('States')\nax[0].set_ylabel('Price')\n\n\nstate_without_null.groupby(state_without_null.RegionName)['ZHVI_AllHomes'].mean().sort_values().tail(10).plot(kind = 'bar',ax =ax[1], color = 'g')\nax[1].set_title('Top States with Most Home Values According to Zillow', fontsize = 25)\nax[1].set_xlabel('States')\nax[1].set_ylabel('Price')",
      "execution_count": null,
      "outputs": []
    },
    {
      "metadata": {
        "_uuid": "ff608447f2af216ff97610a3244479ac9ff09718",
        "_cell_guid": "dea8567d-442d-406e-b0be-8090383854ec"
      },
      "cell_type": "markdown",
      "source": "For this analysis, I will be looking at the top end states. According to Zillow's estimate, Hawaii is the top state with average home value close to 400K. Compared to the second most home value state District of Columbia with an average of 350K. Some other upper end ZHVI states are California, Massachusetts, New York, Alaska, Washingtion, Connecticut, Maryland and Colorado. However, the question is how has the price changed over time for these states. Because if we are looking to buy a house in one of these states, we need to know how the price have changed overtime. "
    },
    {
      "metadata": {
        "collapsed": true,
        "_uuid": "af67eb9d1988000a4292a0293c78201f63fe096a",
        "_cell_guid": "97426f97-a22e-48d9-b0c0-e8bb31315947",
        "trusted": false
      },
      "cell_type": "code",
      "source": "## lets create a dataframe with only the top states\ntop_states = state_without_null[(state_without_null.RegionName == \"NewYork\")|\n                   (state_without_null.RegionName == \"Washington\")|\n                   (state_without_null.RegionName == \"Colorado\")|\n                   (state_without_null.RegionName == \"Connecticut\")|\n                   (state_without_null.RegionName == \"Maryland\")|\n                   (state_without_null.RegionName == \"NewJersey\")|\n                   (state_without_null.RegionName == \"Alaska\")|\n                   (state_without_null.RegionName == \"Massachusetts\")|\n                   (state_without_null.RegionName == \"California\")|\n                   (state_without_null.RegionName == \"Hawaii\")|\n                   (state_without_null.RegionName == \"DistrictofColumbia\")]",
      "execution_count": null,
      "outputs": []
    },
    {
      "metadata": {
        "_uuid": "a90606712196d98fd29a10abf130ed176eda89ef",
        "_cell_guid": "8749fa6d-c408-47e5-a536-2e002f53c38f",
        "trusted": false,
        "collapsed": true
      },
      "cell_type": "code",
      "source": "pd.pivot_table(top_states, \n               index=\"Date\", \n               columns=\"RegionName\", \n               values=\"ZHVI_AllHomes\").plot(kind = 'line', figsize = (20,10),colormap='flag', legend = True)\nplt.xlabel(\"Year\", fontsize = 15)\nplt.ylabel(\"$ Price\",  fontsize = 15)\nplt.title(\" ZHVI home values change in overtime for top expensive states\", fontsize = 24)",
      "execution_count": null,
      "outputs": []
    },
    {
      "metadata": {
        "_uuid": "edcd44245bcc8ca7a89298e06259c8df22d4ef2b",
        "_cell_guid": "fb43c568-cca6-4fa1-9c39-01565b33185d"
      },
      "cell_type": "markdown",
      "source": "It looks like Hawaii, District of Columbia and California are in a race to increase ZHVI average since 2010 according to this dataset. Meanwhile, other upper-end states such as New York and New Jersey started slow and slightly downhill until 2012 then prices seemed to increase with New York accelerating slightly faster than New Jersey. Colorado, on the other hand, has continuously gone uphill in this chart keeping it constant with Connecticut at around 330K in 2017. "
    },
    {
      "metadata": {
        "_uuid": "3ed5e9ae7b307cebba5b47b0dbb092d67cddb7d4",
        "_cell_guid": "6148b028-cd89-4462-9c2e-74f08ab5e0fa",
        "trusted": false,
        "collapsed": true
      },
      "cell_type": "code",
      "source": "## Lets see how the rent is for these states. \nstate_time_series.Date = pd.to_datetime(state_time_series.Date)\nstate_without_null = state_time_series.dropna(subset=['ZRI_AllHomes'], how='any')\nstate_without_null.Date = state_without_null.Date.dt.year\n\nplt.subplots(figsize = (14,6))\nstate_without_null.groupby(state_without_null.RegionName)['ZRI_AllHomes'].mean().sort_values().tail(10).plot(kind = 'bar')\nplt.title('Top States with Most Rent Values According to Zillow', fontsize = 25)\nplt.xlabel('States')\nplt.ylabel('dollar amount');",
      "execution_count": null,
      "outputs": []
    },
    {
      "metadata": {
        "_uuid": "860a4d4a22c9d939976e55b43c83db184dd33de4",
        "_cell_guid": "31b5ef60-c451-4975-8a9f-3ae6a7440bb5"
      },
      "cell_type": "markdown",
      "source": ""
    },
    {
      "metadata": {
        "collapsed": true,
        "_uuid": "fef017de6fb07be24715c8c444df8e130f894f37",
        "_cell_guid": "0d3b666b-a147-477e-983c-216e84a513c6",
        "trusted": false
      },
      "cell_type": "code",
      "source": "states = {\n        'AK': 'Alaska',\n        'AL': 'Alabama',\n        'AR': 'Arkansas',\n        'AS': 'American Samoa',\n        'AZ': 'Arizona',\n        'CA': 'California',\n        'CO': 'Colorado',\n        'CT': 'Connecticut',\n        'DC': 'DistrictofColumbia',\n        'DE': 'Delaware',\n        'FL': 'Florida',\n        'GA': 'Georgia',\n        'GU': 'Guam',\n        'HI': 'Hawaii',\n        'IA': 'Iowa',\n        'ID': 'Idaho',\n        'IL': 'Illinois',\n        'IN': 'Indiana',\n        'KS': 'Kansas',\n        'KY': 'Kentucky',\n        'LA': 'Louisiana',\n        'MA': 'Massachusetts',\n        'MD': 'Maryland',\n        'ME': 'Maine',\n        'MI': 'Michigan',\n        'MN': 'Minnesota',\n        'MO': 'Missouri',\n        'MP': 'Northern Mariana Islands',\n        'MS': 'Mississippi',\n        'MT': 'Montana',\n        'NA': 'National',\n        'NC': 'NorthCarolina',\n        'ND': 'NorthDakota',\n        'NE': 'Nebraska',\n        'NH': 'NewHampshire',\n        'NJ': 'NewJersey',\n        'NM': 'NewMexico',\n        'NV': 'Nevada',\n        'NY': 'NewYork',\n        'OH': 'Ohio',\n        'OK': 'Oklahoma',\n        'OR': 'Oregon',\n        'PA': 'Pennsylvania',\n        'PR': 'Puerto Rico',\n        'RI': 'RhodeIsland',\n        'SC': 'SouthCarolina',\n        'SD': 'SouthDakota',\n        'TN': 'Tennessee',\n        'TX': 'Texas',\n        'UT': 'Utah',\n        'VA': 'Virginia',\n        'VI': 'VirginIslands',\n        'VT': 'Vermont',\n        'WA': 'Washington',\n        'WI': 'Wisconsin',\n        'WV': 'WestVirginia',\n        'WY': 'Wyoming'\n}\n\n",
      "execution_count": null,
      "outputs": []
    },
    {
      "metadata": {
        "collapsed": true,
        "_uuid": "715be1c92316a9c5b794151beb09648693481a55",
        "_cell_guid": "f3d402d1-c274-4872-af42-b9d3d44376d0",
        "trusted": false
      },
      "cell_type": "code",
      "source": "states_w_n_zhvi_all = state_without_null.groupby(state_without_null.RegionName)['ZHVI_AllHomes'].mean().reset_index(name = 'ZHVI_AllHomes')\nstates_w_n_zhvi_all.dropna(inplace=True)",
      "execution_count": null,
      "outputs": []
    },
    {
      "metadata": {
        "_uuid": "dabfd9e85028cae321630e42661218388d169590",
        "_cell_guid": "e670e18c-83d7-422d-8d5a-79090a3ae4ec",
        "trusted": false,
        "collapsed": true
      },
      "cell_type": "code",
      "source": "states_w_n_zhvi_all.head(2)",
      "execution_count": null,
      "outputs": []
    },
    {
      "metadata": {
        "collapsed": true,
        "_uuid": "fdde7887c1c29e124f2a572fc26f5ce5ab367308",
        "scrolled": true,
        "_cell_guid": "b893a6cf-7f40-4698-9b14-61242a740318",
        "trusted": false
      },
      "cell_type": "code",
      "source": "## Replacing the state names into acronyms. \n## This list comprehension is broken down in order to have a better understanding of the code\nstates_w_n_zhvi_all.RegionName = [\n    j ## output\n    for j in states ## outer loop \n    for i in states_w_n_zhvi_all[\"RegionName\"] ## inner loop \n    if i == states[j]] ## if statement",
      "execution_count": null,
      "outputs": []
    },
    {
      "metadata": {
        "_uuid": "9bf0ea05b8c073ce8a84dc34942ecc26ca46026d",
        "_cell_guid": "bf66503a-8ea3-4c98-83fa-44c1cb378eb8",
        "trusted": false,
        "collapsed": true
      },
      "cell_type": "code",
      "source": "states_w_n_zhvi_all.head(2)",
      "execution_count": null,
      "outputs": []
    },
    {
      "metadata": {
        "_uuid": "aa959394188bfc21ac25b9ba4752e177ba41f73d",
        "_cell_guid": "33920a4f-95d8-4f6c-ba00-a3d7d7a4e226",
        "trusted": false,
        "collapsed": true
      },
      "cell_type": "code",
      "source": "scl = [[0.0, 'rgb(242,240,247)'],[0.2, 'rgb(218,218,235)'],[0.4, 'rgb(188,189,220)'],[0.6, 'rgb(158,154,200)'],[0.8, 'rgb(117,107,177)'],[1.0, 'rgb(84,39,143)']]\n\n\n# difine our data for plotting\ndata = [ dict(\n        type='choropleth',\n        colorscale = scl,\n        autocolorscale = True,\n        locations = states_w_n_zhvi_all.RegionName, # location (states)\n        z = states_w_n_zhvi_all['ZHVI_AllHomes'].astype(float), # Zillow Home value per square foot\n        locationmode = 'USA-states', # let's define the location mode to USA_states\n        text = \"Average zillow home value\",\n        marker = dict(\n            line = dict (\n                color = 'rgb(255,255,255)',\n                width = 2\n            ) ),\n        colorbar = dict(\n            title = \"Mean ZHVI for all home\")\n        ) ]\n\nlayout = dict(\n        title = 'Median of the value of all homes per square foot in different states<br>(Hover for breakdown)',\n        geo = dict(\n            scope='usa',\n            projection=dict( type='albers usa' ),\n            showlakes = True,\n            lakecolor = 'rgb(0, 200, 255)'),\n             )\n\n\n\n\n    \nfig = dict( data=data, layout=layout )\n# let's plot\npy.iplot( fig, filename='d3ropleth-map' )",
      "execution_count": null,
      "outputs": []
    },
    {
      "metadata": {
        "collapsed": true,
        "_uuid": "dd2c097536b3685d466845c77f888e9e9d4b2a78",
        "_cell_guid": "fda85816-8178-4604-be26-9f2285b501bb",
        "trusted": false
      },
      "cell_type": "code",
      "source": "",
      "execution_count": null,
      "outputs": []
    },
    {
      "metadata": {
        "_uuid": "75c643af3bf08eb750c39cbf03bed86522c6c72b",
        "_cell_guid": "7641e82e-d53c-4616-99af-09b82fc4bcf0"
      },
      "cell_type": "markdown",
      "source": "## Let's look at the zillow's estimated price per sqare feet. \n***\nIt looks like housing price increased during 2005-2008 and decreased during 2011-2012 year. "
    },
    {
      "metadata": {
        "_uuid": "97f3f613f016c685d355369e54121ca4151d3f5e",
        "_cell_guid": "58118c2d-b523-4796-a000-3e43769da9e1",
        "trusted": false,
        "collapsed": true
      },
      "cell_type": "code",
      "source": "city_time_series.Date = pd.to_datetime(city_time_series.Date)\nzhvi_sqf_all = city_time_series.dropna(subset=['ZHVIPerSqft_AllHomes'],how='any')",
      "execution_count": null,
      "outputs": []
    },
    {
      "metadata": {
        "_uuid": "ca45a0604ca25815859f93e4f3f3dffd6f479a62",
        "scrolled": false,
        "_cell_guid": "af1d3d61-2758-4c07-8e52-effcf5fa3db1",
        "trusted": false,
        "collapsed": true
      },
      "cell_type": "code",
      "source": "plt.subplots(figsize = (14,8))\nzhvi_sqf_all.groupby(zhvi_sqf_all.Date.dt.year)['ZHVIPerSqft_AllHomes'].mean().plot(kind = 'bar', width = .95, color = 'g')\nplt.ylabel(\"price per sqft\")\nplt.xlabel(\"Year\")\nplt.title(\"Changes in all home prices per sqft overtime\", fontsize = 24)\nplt.show()\n\n",
      "execution_count": null,
      "outputs": []
    },
    {
      "metadata": {
        "_uuid": "a39268971c6d236d9bd324a98772676828a7dc46",
        "_cell_guid": "e451da48-6613-4395-87a5-c4295a8e9b15",
        "trusted": false,
        "collapsed": true
      },
      "cell_type": "code",
      "source": "zri_all = city_time_series.dropna(subset=['MedianRentalPrice_AllHomes'], how='any');\nfig, ax = plt.subplots(figsize = (14,8))\nzri_all.groupby(zri_all.Date.dt.year)['MedianRentalPrice_AllHomes'].mean().plot(kind = 'bar',width = .95, color = 'g')",
      "execution_count": null,
      "outputs": []
    },
    {
      "metadata": {
        "_uuid": "499aae84a14fcddb83807721bda1ef1d8ffc4da7",
        "scrolled": false,
        "_cell_guid": "b414c615-b755-438a-9c6c-93eaf2637e14",
        "trusted": false,
        "collapsed": true
      },
      "cell_type": "code",
      "source": "zri_all = city_time_series.dropna(subset=['MedianListingPrice_AllHomes'], how='any');\nfig, ax = plt.subplots(figsize = (14,8))\nzri_all.groupby(zri_all.Date.dt.year)['MedianListingPrice_AllHomes'].mean().plot(kind = 'bar',width = .95, color = 'g')",
      "execution_count": null,
      "outputs": []
    }
  ],
  "metadata": {
    "language_info": {
      "version": "3.6.3",
      "nbconvert_exporter": "python",
      "name": "python",
      "mimetype": "text/x-python",
      "codemirror_mode": {
        "version": 3,
        "name": "ipython"
      },
      "pygments_lexer": "ipython3",
      "file_extension": ".py"
    },
    "kernelspec": {
      "display_name": "Python 3",
      "language": "python",
      "name": "python3"
    }
  },
  "nbformat": 4,
  "nbformat_minor": 1
}